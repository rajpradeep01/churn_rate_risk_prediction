{
 "cells": [
  {
   "cell_type": "code",
   "execution_count": 1,
   "metadata": {},
   "outputs": [],
   "source": [
    "import pandas as pd\n",
    "import numpy as np\n",
    "%matplotlib inline\n",
    "import matplotlib.pyplot as plt\n",
    "import seaborn as sns"
   ]
  },
  {
   "cell_type": "code",
   "execution_count": 2,
   "metadata": {},
   "outputs": [],
   "source": [
    "train=pd.read_csv('train.csv')\n",
    "test=pd.read_csv('test.csv')"
   ]
  },
  {
   "cell_type": "markdown",
   "metadata": {},
   "source": [
    "### checking missing %"
   ]
  },
  {
   "cell_type": "code",
   "execution_count": 3,
   "metadata": {},
   "outputs": [],
   "source": [
    "miss_cols_train=train.columns[train.isna().sum()>0]\n",
    "miss_cols_test=test.columns[test.isna().sum()>0]"
   ]
  },
  {
   "cell_type": "code",
   "execution_count": 4,
   "metadata": {},
   "outputs": [
    {
     "data": {
      "text/plain": [
       "region_category          0.147\n",
       "points_in_wallet         0.093\n",
       "preferred_offer_types    0.008\n",
       "dtype: float64"
      ]
     },
     "execution_count": 4,
     "metadata": {},
     "output_type": "execute_result"
    }
   ],
   "source": [
    "round(train[miss_cols_train].isna().sum().sort_values(ascending=False)/len(train),3)"
   ]
  },
  {
   "cell_type": "code",
   "execution_count": 5,
   "metadata": {},
   "outputs": [
    {
     "data": {
      "text/plain": [
       "region_category          0.080\n",
       "points_in_wallet         0.053\n",
       "preferred_offer_types    0.004\n",
       "dtype: float64"
      ]
     },
     "execution_count": 5,
     "metadata": {},
     "output_type": "execute_result"
    }
   ],
   "source": [
    "round(test[miss_cols_test].isna().sum().sort_values(ascending=False)/len(train),3)"
   ]
  },
  {
   "cell_type": "code",
   "execution_count": 6,
   "metadata": {},
   "outputs": [
    {
     "data": {
      "text/plain": [
       "((36992, 25), (19919, 24))"
      ]
     },
     "execution_count": 6,
     "metadata": {},
     "output_type": "execute_result"
    }
   ],
   "source": [
    "train.shape, test.shape"
   ]
  },
  {
   "cell_type": "code",
   "execution_count": 7,
   "metadata": {},
   "outputs": [
    {
     "data": {
      "text/html": [
       "<div>\n",
       "<style scoped>\n",
       "    .dataframe tbody tr th:only-of-type {\n",
       "        vertical-align: middle;\n",
       "    }\n",
       "\n",
       "    .dataframe tbody tr th {\n",
       "        vertical-align: top;\n",
       "    }\n",
       "\n",
       "    .dataframe thead th {\n",
       "        text-align: right;\n",
       "    }\n",
       "</style>\n",
       "<table border=\"1\" class=\"dataframe\">\n",
       "  <thead>\n",
       "    <tr style=\"text-align: right;\">\n",
       "      <th></th>\n",
       "      <th>0</th>\n",
       "      <th>1</th>\n",
       "      <th>2</th>\n",
       "      <th>3</th>\n",
       "      <th>4</th>\n",
       "    </tr>\n",
       "  </thead>\n",
       "  <tbody>\n",
       "    <tr>\n",
       "      <th>customer_id</th>\n",
       "      <td>fffe4300490044003600300030003800</td>\n",
       "      <td>fffe43004900440032003100300035003700</td>\n",
       "      <td>fffe4300490044003100390032003600</td>\n",
       "      <td>fffe43004900440036003000330031003600</td>\n",
       "      <td>fffe43004900440031003900350030003600</td>\n",
       "    </tr>\n",
       "    <tr>\n",
       "      <th>Name</th>\n",
       "      <td>Pattie Morrisey</td>\n",
       "      <td>Traci Peery</td>\n",
       "      <td>Merideth Mcmeen</td>\n",
       "      <td>Eufemia Cardwell</td>\n",
       "      <td>Meghan Kosak</td>\n",
       "    </tr>\n",
       "    <tr>\n",
       "      <th>age</th>\n",
       "      <td>18</td>\n",
       "      <td>32</td>\n",
       "      <td>44</td>\n",
       "      <td>37</td>\n",
       "      <td>31</td>\n",
       "    </tr>\n",
       "    <tr>\n",
       "      <th>gender</th>\n",
       "      <td>F</td>\n",
       "      <td>F</td>\n",
       "      <td>F</td>\n",
       "      <td>M</td>\n",
       "      <td>F</td>\n",
       "    </tr>\n",
       "    <tr>\n",
       "      <th>security_no</th>\n",
       "      <td>XW0DQ7H</td>\n",
       "      <td>5K0N3X1</td>\n",
       "      <td>1F2TCL3</td>\n",
       "      <td>VJGJ33N</td>\n",
       "      <td>SVZXCWB</td>\n",
       "    </tr>\n",
       "    <tr>\n",
       "      <th>region_category</th>\n",
       "      <td>Village</td>\n",
       "      <td>City</td>\n",
       "      <td>Town</td>\n",
       "      <td>City</td>\n",
       "      <td>City</td>\n",
       "    </tr>\n",
       "    <tr>\n",
       "      <th>membership_category</th>\n",
       "      <td>Platinum Membership</td>\n",
       "      <td>Premium Membership</td>\n",
       "      <td>No Membership</td>\n",
       "      <td>No Membership</td>\n",
       "      <td>No Membership</td>\n",
       "    </tr>\n",
       "    <tr>\n",
       "      <th>joining_date</th>\n",
       "      <td>2017-08-17</td>\n",
       "      <td>2017-08-28</td>\n",
       "      <td>2016-11-11</td>\n",
       "      <td>2016-10-29</td>\n",
       "      <td>2017-09-12</td>\n",
       "    </tr>\n",
       "    <tr>\n",
       "      <th>joined_through_referral</th>\n",
       "      <td>No</td>\n",
       "      <td>?</td>\n",
       "      <td>Yes</td>\n",
       "      <td>Yes</td>\n",
       "      <td>No</td>\n",
       "    </tr>\n",
       "    <tr>\n",
       "      <th>referral_id</th>\n",
       "      <td>xxxxxxxx</td>\n",
       "      <td>CID21329</td>\n",
       "      <td>CID12313</td>\n",
       "      <td>CID3793</td>\n",
       "      <td>xxxxxxxx</td>\n",
       "    </tr>\n",
       "    <tr>\n",
       "      <th>preferred_offer_types</th>\n",
       "      <td>Gift Vouchers/Coupons</td>\n",
       "      <td>Gift Vouchers/Coupons</td>\n",
       "      <td>Gift Vouchers/Coupons</td>\n",
       "      <td>Gift Vouchers/Coupons</td>\n",
       "      <td>Credit/Debit Card Offers</td>\n",
       "    </tr>\n",
       "    <tr>\n",
       "      <th>medium_of_operation</th>\n",
       "      <td>?</td>\n",
       "      <td>Desktop</td>\n",
       "      <td>Desktop</td>\n",
       "      <td>Desktop</td>\n",
       "      <td>Smartphone</td>\n",
       "    </tr>\n",
       "    <tr>\n",
       "      <th>internet_option</th>\n",
       "      <td>Wi-Fi</td>\n",
       "      <td>Mobile_Data</td>\n",
       "      <td>Wi-Fi</td>\n",
       "      <td>Mobile_Data</td>\n",
       "      <td>Mobile_Data</td>\n",
       "    </tr>\n",
       "    <tr>\n",
       "      <th>last_visit_time</th>\n",
       "      <td>16:08:02</td>\n",
       "      <td>12:38:13</td>\n",
       "      <td>22:53:21</td>\n",
       "      <td>15:57:50</td>\n",
       "      <td>15:46:44</td>\n",
       "    </tr>\n",
       "    <tr>\n",
       "      <th>days_since_last_login</th>\n",
       "      <td>17</td>\n",
       "      <td>16</td>\n",
       "      <td>14</td>\n",
       "      <td>11</td>\n",
       "      <td>20</td>\n",
       "    </tr>\n",
       "    <tr>\n",
       "      <th>avg_time_spent</th>\n",
       "      <td>300.63</td>\n",
       "      <td>306.34</td>\n",
       "      <td>516.16</td>\n",
       "      <td>53.27</td>\n",
       "      <td>113.13</td>\n",
       "    </tr>\n",
       "    <tr>\n",
       "      <th>avg_transaction_value</th>\n",
       "      <td>53005.2</td>\n",
       "      <td>12838.4</td>\n",
       "      <td>21027</td>\n",
       "      <td>25239.6</td>\n",
       "      <td>24483.7</td>\n",
       "    </tr>\n",
       "    <tr>\n",
       "      <th>avg_frequency_login_days</th>\n",
       "      <td>17.0</td>\n",
       "      <td>10.0</td>\n",
       "      <td>22.0</td>\n",
       "      <td>6.0</td>\n",
       "      <td>16.0</td>\n",
       "    </tr>\n",
       "    <tr>\n",
       "      <th>points_in_wallet</th>\n",
       "      <td>781.75</td>\n",
       "      <td>NaN</td>\n",
       "      <td>500.69</td>\n",
       "      <td>567.66</td>\n",
       "      <td>663.06</td>\n",
       "    </tr>\n",
       "    <tr>\n",
       "      <th>used_special_discount</th>\n",
       "      <td>Yes</td>\n",
       "      <td>Yes</td>\n",
       "      <td>No</td>\n",
       "      <td>No</td>\n",
       "      <td>No</td>\n",
       "    </tr>\n",
       "    <tr>\n",
       "      <th>offer_application_preference</th>\n",
       "      <td>Yes</td>\n",
       "      <td>No</td>\n",
       "      <td>Yes</td>\n",
       "      <td>Yes</td>\n",
       "      <td>Yes</td>\n",
       "    </tr>\n",
       "    <tr>\n",
       "      <th>past_complaint</th>\n",
       "      <td>No</td>\n",
       "      <td>Yes</td>\n",
       "      <td>Yes</td>\n",
       "      <td>Yes</td>\n",
       "      <td>Yes</td>\n",
       "    </tr>\n",
       "    <tr>\n",
       "      <th>complaint_status</th>\n",
       "      <td>Not Applicable</td>\n",
       "      <td>Solved</td>\n",
       "      <td>Solved in Follow-up</td>\n",
       "      <td>Unsolved</td>\n",
       "      <td>Solved</td>\n",
       "    </tr>\n",
       "    <tr>\n",
       "      <th>feedback</th>\n",
       "      <td>Products always in Stock</td>\n",
       "      <td>Quality Customer Care</td>\n",
       "      <td>Poor Website</td>\n",
       "      <td>Poor Website</td>\n",
       "      <td>Poor Website</td>\n",
       "    </tr>\n",
       "    <tr>\n",
       "      <th>churn_risk_score</th>\n",
       "      <td>2</td>\n",
       "      <td>1</td>\n",
       "      <td>5</td>\n",
       "      <td>5</td>\n",
       "      <td>5</td>\n",
       "    </tr>\n",
       "  </tbody>\n",
       "</table>\n",
       "</div>"
      ],
      "text/plain": [
       "                                                             0  \\\n",
       "customer_id                   fffe4300490044003600300030003800   \n",
       "Name                                           Pattie Morrisey   \n",
       "age                                                         18   \n",
       "gender                                                       F   \n",
       "security_no                                            XW0DQ7H   \n",
       "region_category                                        Village   \n",
       "membership_category                        Platinum Membership   \n",
       "joining_date                                        2017-08-17   \n",
       "joined_through_referral                                     No   \n",
       "referral_id                                           xxxxxxxx   \n",
       "preferred_offer_types                    Gift Vouchers/Coupons   \n",
       "medium_of_operation                                          ?   \n",
       "internet_option                                          Wi-Fi   \n",
       "last_visit_time                                       16:08:02   \n",
       "days_since_last_login                                       17   \n",
       "avg_time_spent                                          300.63   \n",
       "avg_transaction_value                                  53005.2   \n",
       "avg_frequency_login_days                                  17.0   \n",
       "points_in_wallet                                        781.75   \n",
       "used_special_discount                                      Yes   \n",
       "offer_application_preference                               Yes   \n",
       "past_complaint                                              No   \n",
       "complaint_status                                Not Applicable   \n",
       "feedback                              Products always in Stock   \n",
       "churn_risk_score                                             2   \n",
       "\n",
       "                                                                 1  \\\n",
       "customer_id                   fffe43004900440032003100300035003700   \n",
       "Name                                                   Traci Peery   \n",
       "age                                                             32   \n",
       "gender                                                           F   \n",
       "security_no                                                5K0N3X1   \n",
       "region_category                                               City   \n",
       "membership_category                             Premium Membership   \n",
       "joining_date                                            2017-08-28   \n",
       "joined_through_referral                                          ?   \n",
       "referral_id                                               CID21329   \n",
       "preferred_offer_types                        Gift Vouchers/Coupons   \n",
       "medium_of_operation                                        Desktop   \n",
       "internet_option                                        Mobile_Data   \n",
       "last_visit_time                                           12:38:13   \n",
       "days_since_last_login                                           16   \n",
       "avg_time_spent                                              306.34   \n",
       "avg_transaction_value                                      12838.4   \n",
       "avg_frequency_login_days                                      10.0   \n",
       "points_in_wallet                                               NaN   \n",
       "used_special_discount                                          Yes   \n",
       "offer_application_preference                                    No   \n",
       "past_complaint                                                 Yes   \n",
       "complaint_status                                            Solved   \n",
       "feedback                                     Quality Customer Care   \n",
       "churn_risk_score                                                 1   \n",
       "\n",
       "                                                             2  \\\n",
       "customer_id                   fffe4300490044003100390032003600   \n",
       "Name                                           Merideth Mcmeen   \n",
       "age                                                         44   \n",
       "gender                                                       F   \n",
       "security_no                                            1F2TCL3   \n",
       "region_category                                           Town   \n",
       "membership_category                              No Membership   \n",
       "joining_date                                        2016-11-11   \n",
       "joined_through_referral                                    Yes   \n",
       "referral_id                                           CID12313   \n",
       "preferred_offer_types                    Gift Vouchers/Coupons   \n",
       "medium_of_operation                                    Desktop   \n",
       "internet_option                                          Wi-Fi   \n",
       "last_visit_time                                       22:53:21   \n",
       "days_since_last_login                                       14   \n",
       "avg_time_spent                                          516.16   \n",
       "avg_transaction_value                                    21027   \n",
       "avg_frequency_login_days                                  22.0   \n",
       "points_in_wallet                                        500.69   \n",
       "used_special_discount                                       No   \n",
       "offer_application_preference                               Yes   \n",
       "past_complaint                                             Yes   \n",
       "complaint_status                           Solved in Follow-up   \n",
       "feedback                                          Poor Website   \n",
       "churn_risk_score                                             5   \n",
       "\n",
       "                                                                 3  \\\n",
       "customer_id                   fffe43004900440036003000330031003600   \n",
       "Name                                              Eufemia Cardwell   \n",
       "age                                                             37   \n",
       "gender                                                           M   \n",
       "security_no                                                VJGJ33N   \n",
       "region_category                                               City   \n",
       "membership_category                                  No Membership   \n",
       "joining_date                                            2016-10-29   \n",
       "joined_through_referral                                        Yes   \n",
       "referral_id                                                CID3793   \n",
       "preferred_offer_types                        Gift Vouchers/Coupons   \n",
       "medium_of_operation                                        Desktop   \n",
       "internet_option                                        Mobile_Data   \n",
       "last_visit_time                                           15:57:50   \n",
       "days_since_last_login                                           11   \n",
       "avg_time_spent                                               53.27   \n",
       "avg_transaction_value                                      25239.6   \n",
       "avg_frequency_login_days                                       6.0   \n",
       "points_in_wallet                                            567.66   \n",
       "used_special_discount                                           No   \n",
       "offer_application_preference                                   Yes   \n",
       "past_complaint                                                 Yes   \n",
       "complaint_status                                          Unsolved   \n",
       "feedback                                              Poor Website   \n",
       "churn_risk_score                                                 5   \n",
       "\n",
       "                                                                 4  \n",
       "customer_id                   fffe43004900440031003900350030003600  \n",
       "Name                                                  Meghan Kosak  \n",
       "age                                                             31  \n",
       "gender                                                           F  \n",
       "security_no                                                SVZXCWB  \n",
       "region_category                                               City  \n",
       "membership_category                                  No Membership  \n",
       "joining_date                                            2017-09-12  \n",
       "joined_through_referral                                         No  \n",
       "referral_id                                               xxxxxxxx  \n",
       "preferred_offer_types                     Credit/Debit Card Offers  \n",
       "medium_of_operation                                     Smartphone  \n",
       "internet_option                                        Mobile_Data  \n",
       "last_visit_time                                           15:46:44  \n",
       "days_since_last_login                                           20  \n",
       "avg_time_spent                                              113.13  \n",
       "avg_transaction_value                                      24483.7  \n",
       "avg_frequency_login_days                                      16.0  \n",
       "points_in_wallet                                            663.06  \n",
       "used_special_discount                                           No  \n",
       "offer_application_preference                                   Yes  \n",
       "past_complaint                                                 Yes  \n",
       "complaint_status                                            Solved  \n",
       "feedback                                              Poor Website  \n",
       "churn_risk_score                                                 5  "
      ]
     },
     "execution_count": 7,
     "metadata": {},
     "output_type": "execute_result"
    }
   ],
   "source": [
    "train.head().T"
   ]
  },
  {
   "cell_type": "markdown",
   "metadata": {},
   "source": [
    "### treating joined_through_referral"
   ]
  },
  {
   "cell_type": "code",
   "execution_count": 8,
   "metadata": {},
   "outputs": [
    {
     "data": {
      "text/plain": [
       "No     15839\n",
       "Yes    15715\n",
       "?       5438\n",
       "Name: joined_through_referral, dtype: int64"
      ]
     },
     "execution_count": 8,
     "metadata": {},
     "output_type": "execute_result"
    }
   ],
   "source": [
    "train['joined_through_referral'].value_counts()"
   ]
  },
  {
   "cell_type": "code",
   "execution_count": 9,
   "metadata": {},
   "outputs": [
    {
     "data": {
      "text/plain": [
       "xxxxxxxx    561\n",
       "CID15792      5\n",
       "CID57328      4\n",
       "CID1601       4\n",
       "CID52976      4\n",
       "           ... \n",
       "CID42136      1\n",
       "CID39430      1\n",
       "CID25288      1\n",
       "CID61365      1\n",
       "CID15024      1\n",
       "Name: referral_id, Length: 4174, dtype: int64"
      ]
     },
     "execution_count": 9,
     "metadata": {},
     "output_type": "execute_result"
    }
   ],
   "source": [
    "train['referral_id'][train['joined_through_referral']=='?'].value_counts()"
   ]
  },
  {
   "cell_type": "code",
   "execution_count": 10,
   "metadata": {},
   "outputs": [],
   "source": [
    "train.loc[(train['referral_id']==\"xxxxxxxx\") & (train['joined_through_referral']==\"?\"),'joined_through_referral']=\"No\"\n",
    "train.loc[(train['referral_id']!=\"xxxxxxxx\") & (train['joined_through_referral']==\"?\"),'joined_through_referral']=\"Yes\""
   ]
  },
  {
   "cell_type": "code",
   "execution_count": 11,
   "metadata": {},
   "outputs": [],
   "source": [
    "test.loc[(test['referral_id']==\"xxxxxxxx\") & (test['joined_through_referral']==\"?\"),'joined_through_referral']=\"No\"\n",
    "test.loc[(test['referral_id']!=\"xxxxxxxx\") & (test['joined_through_referral']==\"?\"),'joined_through_referral']=\"Yes\""
   ]
  },
  {
   "cell_type": "markdown",
   "metadata": {},
   "source": [
    "### dropping useless columns"
   ]
  },
  {
   "cell_type": "code",
   "execution_count": 12,
   "metadata": {},
   "outputs": [],
   "source": [
    "test_ids=test['customer_id']"
   ]
  },
  {
   "cell_type": "code",
   "execution_count": 13,
   "metadata": {},
   "outputs": [],
   "source": [
    "train=train.drop(columns=['Name','security_no','referral_id','last_visit_time','customer_id'])\n",
    "test=test.drop(columns=['Name','security_no','referral_id','last_visit_time','customer_id'])"
   ]
  },
  {
   "cell_type": "markdown",
   "metadata": {},
   "source": [
    "### checking categorical distributions"
   ]
  },
  {
   "cell_type": "code",
   "execution_count": 14,
   "metadata": {},
   "outputs": [
    {
     "name": "stdout",
     "output_type": "stream",
     "text": [
      "<class 'pandas.core.frame.DataFrame'>\n",
      "RangeIndex: 36992 entries, 0 to 36991\n",
      "Data columns (total 20 columns):\n",
      " #   Column                        Non-Null Count  Dtype  \n",
      "---  ------                        --------------  -----  \n",
      " 0   age                           36992 non-null  int64  \n",
      " 1   gender                        36992 non-null  object \n",
      " 2   region_category               31564 non-null  object \n",
      " 3   membership_category           36992 non-null  object \n",
      " 4   joining_date                  36992 non-null  object \n",
      " 5   joined_through_referral       36992 non-null  object \n",
      " 6   preferred_offer_types         36704 non-null  object \n",
      " 7   medium_of_operation           36992 non-null  object \n",
      " 8   internet_option               36992 non-null  object \n",
      " 9   days_since_last_login         36992 non-null  int64  \n",
      " 10  avg_time_spent                36992 non-null  float64\n",
      " 11  avg_transaction_value         36992 non-null  float64\n",
      " 12  avg_frequency_login_days      36992 non-null  object \n",
      " 13  points_in_wallet              33549 non-null  float64\n",
      " 14  used_special_discount         36992 non-null  object \n",
      " 15  offer_application_preference  36992 non-null  object \n",
      " 16  past_complaint                36992 non-null  object \n",
      " 17  complaint_status              36992 non-null  object \n",
      " 18  feedback                      36992 non-null  object \n",
      " 19  churn_risk_score              36992 non-null  int64  \n",
      "dtypes: float64(3), int64(3), object(14)\n",
      "memory usage: 5.6+ MB\n"
     ]
    }
   ],
   "source": [
    "train.info()"
   ]
  },
  {
   "cell_type": "markdown",
   "metadata": {},
   "source": [
    "### segregrating categorical and numerical columns"
   ]
  },
  {
   "cell_type": "code",
   "execution_count": 15,
   "metadata": {},
   "outputs": [],
   "source": [
    "cat=[]\n",
    "num=[]\n",
    "for i in test.columns:\n",
    "    if test[i].dtype=='O':\n",
    "        cat.append(i)\n",
    "    else:\n",
    "        num.append(i)"
   ]
  },
  {
   "cell_type": "code",
   "execution_count": 16,
   "metadata": {},
   "outputs": [
    {
     "data": {
      "text/plain": [
       "['gender',\n",
       " 'region_category',\n",
       " 'membership_category',\n",
       " 'joining_date',\n",
       " 'joined_through_referral',\n",
       " 'preferred_offer_types',\n",
       " 'medium_of_operation',\n",
       " 'internet_option',\n",
       " 'avg_frequency_login_days',\n",
       " 'used_special_discount',\n",
       " 'offer_application_preference',\n",
       " 'past_complaint',\n",
       " 'complaint_status',\n",
       " 'feedback']"
      ]
     },
     "execution_count": 16,
     "metadata": {},
     "output_type": "execute_result"
    }
   ],
   "source": [
    "cat"
   ]
  },
  {
   "cell_type": "code",
   "execution_count": 17,
   "metadata": {},
   "outputs": [
    {
     "data": {
      "text/plain": [
       "['age',\n",
       " 'days_since_last_login',\n",
       " 'avg_time_spent',\n",
       " 'avg_transaction_value',\n",
       " 'points_in_wallet']"
      ]
     },
     "execution_count": 17,
     "metadata": {},
     "output_type": "execute_result"
    }
   ],
   "source": [
    "num"
   ]
  },
  {
   "cell_type": "markdown",
   "metadata": {},
   "source": [
    "### checking categorical distribution"
   ]
  },
  {
   "cell_type": "code",
   "execution_count": 18,
   "metadata": {},
   "outputs": [
    {
     "name": "stdout",
     "output_type": "stream",
     "text": [
      "\n",
      " gender \n",
      " ----------------------------------------\n",
      "F          18490\n",
      "M          18443\n",
      "Unknown       59\n",
      "Name: gender, dtype: int64\n",
      "\n",
      " region_category \n",
      " ----------------------------------------\n",
      "Town       14128\n",
      "City       12737\n",
      "Village     4699\n",
      "Name: region_category, dtype: int64\n",
      "\n",
      " membership_category \n",
      " ----------------------------------------\n",
      "Basic Membership       7724\n",
      "No Membership          7692\n",
      "Gold Membership        6795\n",
      "Silver Membership      5988\n",
      "Premium Membership     4455\n",
      "Platinum Membership    4338\n",
      "Name: membership_category, dtype: int64\n",
      "\n",
      " joining_date \n",
      " ----------------------------------------\n",
      "2015-06-02    55\n",
      "2015-07-04    51\n",
      "2015-06-21    50\n",
      "2016-08-03    49\n",
      "2015-06-26    49\n",
      "              ..\n",
      "2016-03-16    19\n",
      "2016-06-03    18\n",
      "2015-09-12    18\n",
      "2017-07-03    18\n",
      "2015-03-04    16\n",
      "Name: joining_date, Length: 1096, dtype: int64\n",
      "\n",
      " joined_through_referral \n",
      " ----------------------------------------\n",
      "Yes    20592\n",
      "No     16400\n",
      "Name: joined_through_referral, dtype: int64\n",
      "\n",
      " preferred_offer_types \n",
      " ----------------------------------------\n",
      "Gift Vouchers/Coupons       12349\n",
      "Credit/Debit Card Offers    12274\n",
      "Without Offers              12081\n",
      "Name: preferred_offer_types, dtype: int64\n",
      "\n",
      " medium_of_operation \n",
      " ----------------------------------------\n",
      "Desktop       13913\n",
      "Smartphone    13876\n",
      "?              5393\n",
      "Both           3810\n",
      "Name: medium_of_operation, dtype: int64\n",
      "\n",
      " internet_option \n",
      " ----------------------------------------\n",
      "Wi-Fi          12413\n",
      "Mobile_Data    12343\n",
      "Fiber_Optic    12236\n",
      "Name: internet_option, dtype: int64\n",
      "\n",
      " avg_frequency_login_days \n",
      " ----------------------------------------\n",
      "Error                 3522\n",
      "13.0                  1394\n",
      "19.0                  1365\n",
      "8.0                   1361\n",
      "14.0                  1355\n",
      "                      ... \n",
      "52.51652701125662        1\n",
      "46.65952206064311        1\n",
      "10.421616803247854       1\n",
      "-6.92826551712837        1\n",
      "50.23324387603572        1\n",
      "Name: avg_frequency_login_days, Length: 1654, dtype: int64\n",
      "\n",
      " used_special_discount \n",
      " ----------------------------------------\n",
      "Yes    20342\n",
      "No     16650\n",
      "Name: used_special_discount, dtype: int64\n",
      "\n",
      " offer_application_preference \n",
      " ----------------------------------------\n",
      "Yes    20440\n",
      "No     16552\n",
      "Name: offer_application_preference, dtype: int64\n",
      "\n",
      " past_complaint \n",
      " ----------------------------------------\n",
      "No     18602\n",
      "Yes    18390\n",
      "Name: past_complaint, dtype: int64\n",
      "\n",
      " complaint_status \n",
      " ----------------------------------------\n",
      "Not Applicable              18602\n",
      "Unsolved                     4644\n",
      "Solved                       4619\n",
      "Solved in Follow-up          4577\n",
      "No Information Available     4550\n",
      "Name: complaint_status, dtype: int64\n",
      "\n",
      " feedback \n",
      " ----------------------------------------\n",
      "Poor Product Quality        6350\n",
      "No reason specified         6290\n",
      "Too many ads                6279\n",
      "Poor Website                6271\n",
      "Poor Customer Service       6252\n",
      "Reasonable Price            1417\n",
      "User Friendly Website       1391\n",
      "Products always in Stock    1382\n",
      "Quality Customer Care       1360\n",
      "Name: feedback, dtype: int64\n"
     ]
    }
   ],
   "source": [
    "for i in cat:\n",
    "    print(\"\\n\",i,\"\\n\",\"-\"*40)\n",
    "    print(train[i].value_counts())"
   ]
  },
  {
   "cell_type": "markdown",
   "metadata": {},
   "source": [
    "### checking numerical distribution"
   ]
  },
  {
   "cell_type": "code",
   "execution_count": 19,
   "metadata": {},
   "outputs": [
    {
     "data": {
      "text/html": [
       "<div>\n",
       "<style scoped>\n",
       "    .dataframe tbody tr th:only-of-type {\n",
       "        vertical-align: middle;\n",
       "    }\n",
       "\n",
       "    .dataframe tbody tr th {\n",
       "        vertical-align: top;\n",
       "    }\n",
       "\n",
       "    .dataframe thead th {\n",
       "        text-align: right;\n",
       "    }\n",
       "</style>\n",
       "<table border=\"1\" class=\"dataframe\">\n",
       "  <thead>\n",
       "    <tr style=\"text-align: right;\">\n",
       "      <th></th>\n",
       "      <th>age</th>\n",
       "      <th>days_since_last_login</th>\n",
       "      <th>avg_time_spent</th>\n",
       "      <th>avg_transaction_value</th>\n",
       "      <th>points_in_wallet</th>\n",
       "      <th>churn_risk_score</th>\n",
       "    </tr>\n",
       "  </thead>\n",
       "  <tbody>\n",
       "    <tr>\n",
       "      <th>count</th>\n",
       "      <td>36992.000000</td>\n",
       "      <td>36992.000000</td>\n",
       "      <td>36992.000000</td>\n",
       "      <td>36992.000000</td>\n",
       "      <td>33549.000000</td>\n",
       "      <td>36992.000000</td>\n",
       "    </tr>\n",
       "    <tr>\n",
       "      <th>mean</th>\n",
       "      <td>37.118161</td>\n",
       "      <td>-41.915576</td>\n",
       "      <td>243.472334</td>\n",
       "      <td>29271.194003</td>\n",
       "      <td>686.882199</td>\n",
       "      <td>3.463397</td>\n",
       "    </tr>\n",
       "    <tr>\n",
       "      <th>std</th>\n",
       "      <td>15.867412</td>\n",
       "      <td>228.819900</td>\n",
       "      <td>398.289149</td>\n",
       "      <td>19444.806226</td>\n",
       "      <td>194.063624</td>\n",
       "      <td>1.409661</td>\n",
       "    </tr>\n",
       "    <tr>\n",
       "      <th>min</th>\n",
       "      <td>10.000000</td>\n",
       "      <td>-999.000000</td>\n",
       "      <td>-2814.109110</td>\n",
       "      <td>800.460000</td>\n",
       "      <td>-760.661236</td>\n",
       "      <td>-1.000000</td>\n",
       "    </tr>\n",
       "    <tr>\n",
       "      <th>1%</th>\n",
       "      <td>10.000000</td>\n",
       "      <td>-999.000000</td>\n",
       "      <td>-948.781579</td>\n",
       "      <td>1325.127900</td>\n",
       "      <td>113.627063</td>\n",
       "      <td>-1.000000</td>\n",
       "    </tr>\n",
       "    <tr>\n",
       "      <th>10%</th>\n",
       "      <td>15.000000</td>\n",
       "      <td>3.000000</td>\n",
       "      <td>32.290000</td>\n",
       "      <td>6198.329000</td>\n",
       "      <td>512.168000</td>\n",
       "      <td>1.000000</td>\n",
       "    </tr>\n",
       "    <tr>\n",
       "      <th>25%</th>\n",
       "      <td>23.000000</td>\n",
       "      <td>8.000000</td>\n",
       "      <td>60.102500</td>\n",
       "      <td>14177.540000</td>\n",
       "      <td>616.150000</td>\n",
       "      <td>3.000000</td>\n",
       "    </tr>\n",
       "    <tr>\n",
       "      <th>50%</th>\n",
       "      <td>37.000000</td>\n",
       "      <td>12.000000</td>\n",
       "      <td>161.765000</td>\n",
       "      <td>27554.485000</td>\n",
       "      <td>697.620000</td>\n",
       "      <td>4.000000</td>\n",
       "    </tr>\n",
       "    <tr>\n",
       "      <th>75%</th>\n",
       "      <td>51.000000</td>\n",
       "      <td>16.000000</td>\n",
       "      <td>356.515000</td>\n",
       "      <td>40855.110000</td>\n",
       "      <td>763.950000</td>\n",
       "      <td>5.000000</td>\n",
       "    </tr>\n",
       "    <tr>\n",
       "      <th>90%</th>\n",
       "      <td>59.000000</td>\n",
       "      <td>20.000000</td>\n",
       "      <td>702.668000</td>\n",
       "      <td>48789.279000</td>\n",
       "      <td>829.004000</td>\n",
       "      <td>5.000000</td>\n",
       "    </tr>\n",
       "    <tr>\n",
       "      <th>99%</th>\n",
       "      <td>64.000000</td>\n",
       "      <td>24.000000</td>\n",
       "      <td>1482.238800</td>\n",
       "      <td>93157.701700</td>\n",
       "      <td>1255.864549</td>\n",
       "      <td>5.000000</td>\n",
       "    </tr>\n",
       "    <tr>\n",
       "      <th>max</th>\n",
       "      <td>64.000000</td>\n",
       "      <td>26.000000</td>\n",
       "      <td>3235.578521</td>\n",
       "      <td>99914.050000</td>\n",
       "      <td>2069.069761</td>\n",
       "      <td>5.000000</td>\n",
       "    </tr>\n",
       "  </tbody>\n",
       "</table>\n",
       "</div>"
      ],
      "text/plain": [
       "                age  days_since_last_login  avg_time_spent  \\\n",
       "count  36992.000000           36992.000000    36992.000000   \n",
       "mean      37.118161             -41.915576      243.472334   \n",
       "std       15.867412             228.819900      398.289149   \n",
       "min       10.000000            -999.000000    -2814.109110   \n",
       "1%        10.000000            -999.000000     -948.781579   \n",
       "10%       15.000000               3.000000       32.290000   \n",
       "25%       23.000000               8.000000       60.102500   \n",
       "50%       37.000000              12.000000      161.765000   \n",
       "75%       51.000000              16.000000      356.515000   \n",
       "90%       59.000000              20.000000      702.668000   \n",
       "99%       64.000000              24.000000     1482.238800   \n",
       "max       64.000000              26.000000     3235.578521   \n",
       "\n",
       "       avg_transaction_value  points_in_wallet  churn_risk_score  \n",
       "count           36992.000000      33549.000000      36992.000000  \n",
       "mean            29271.194003        686.882199          3.463397  \n",
       "std             19444.806226        194.063624          1.409661  \n",
       "min               800.460000       -760.661236         -1.000000  \n",
       "1%               1325.127900        113.627063         -1.000000  \n",
       "10%              6198.329000        512.168000          1.000000  \n",
       "25%             14177.540000        616.150000          3.000000  \n",
       "50%             27554.485000        697.620000          4.000000  \n",
       "75%             40855.110000        763.950000          5.000000  \n",
       "90%             48789.279000        829.004000          5.000000  \n",
       "99%             93157.701700       1255.864549          5.000000  \n",
       "max             99914.050000       2069.069761          5.000000  "
      ]
     },
     "execution_count": 19,
     "metadata": {},
     "output_type": "execute_result"
    }
   ],
   "source": [
    "train.describe(percentiles=[.01,.1,.25,.5,.75,.9,.99])"
   ]
  },
  {
   "cell_type": "markdown",
   "metadata": {},
   "source": [
    "### treating churn_risk_score"
   ]
  },
  {
   "cell_type": "code",
   "execution_count": 20,
   "metadata": {},
   "outputs": [
    {
     "data": {
      "text/plain": [
       " 3    10424\n",
       " 4    10185\n",
       " 5     9827\n",
       " 2     2741\n",
       " 1     2652\n",
       "-1     1163\n",
       "Name: churn_risk_score, dtype: int64"
      ]
     },
     "execution_count": 20,
     "metadata": {},
     "output_type": "execute_result"
    }
   ],
   "source": [
    "train['churn_risk_score'].value_counts()"
   ]
  },
  {
   "cell_type": "code",
   "execution_count": 21,
   "metadata": {},
   "outputs": [],
   "source": [
    "train=train[train['churn_risk_score']!=-1]"
   ]
  },
  {
   "cell_type": "markdown",
   "metadata": {},
   "source": [
    "### converting date to days_since and dropping dates"
   ]
  },
  {
   "cell_type": "code",
   "execution_count": 22,
   "metadata": {},
   "outputs": [],
   "source": [
    "import datetime"
   ]
  },
  {
   "cell_type": "code",
   "execution_count": 23,
   "metadata": {},
   "outputs": [],
   "source": [
    "train_date=pd.to_datetime(train['joining_date'])\n",
    "test_date=pd.to_datetime(test['joining_date'])\n",
    "max_date=max(pd.to_datetime(train['joining_date']))"
   ]
  },
  {
   "cell_type": "code",
   "execution_count": 24,
   "metadata": {},
   "outputs": [],
   "source": [
    "train_days=(max_date-train_date).apply(lambda x: x.days)\n",
    "test_days=(max_date-test_date).apply(lambda x: x.days)"
   ]
  },
  {
   "cell_type": "code",
   "execution_count": 25,
   "metadata": {},
   "outputs": [],
   "source": [
    "train['days_since_join']=train_days\n",
    "test['days_since_join']=test_days"
   ]
  },
  {
   "cell_type": "code",
   "execution_count": 26,
   "metadata": {},
   "outputs": [],
   "source": [
    "train.drop(columns='joining_date',inplace=True)\n",
    "test.drop(columns='joining_date',inplace=True)"
   ]
  },
  {
   "cell_type": "markdown",
   "metadata": {},
   "source": [
    "### treating avg_frequency_login_days"
   ]
  },
  {
   "cell_type": "code",
   "execution_count": 27,
   "metadata": {},
   "outputs": [],
   "source": [
    "train['avg_frequency_login_days'].replace({\"Error\":\"-999\"},inplace=True)\n",
    "test['avg_frequency_login_days'].replace({\"Error\":\"-999\"},inplace=True)"
   ]
  },
  {
   "cell_type": "code",
   "execution_count": 28,
   "metadata": {},
   "outputs": [],
   "source": [
    "train['avg_frequency_login_days']=train['avg_frequency_login_days'].astype('float')\n",
    "test['avg_frequency_login_days']=test['avg_frequency_login_days'].astype('float')\n",
    "\n",
    "train['avg_frequency_login_days']=train['avg_frequency_login_days'].astype('int32')\n",
    "test['avg_frequency_login_days']=test['avg_frequency_login_days'].astype('int32')"
   ]
  },
  {
   "cell_type": "markdown",
   "metadata": {},
   "source": [
    "### treating missing values"
   ]
  },
  {
   "cell_type": "code",
   "execution_count": 29,
   "metadata": {},
   "outputs": [],
   "source": [
    "train.fillna({'region_category':'Other', 'preferred_offer_types':'Other', 'points_in_wallet':train['points_in_wallet'].mean()}, inplace=True)\n",
    "test.fillna({'region_category':'Other', 'preferred_offer_types':'Other', 'points_in_wallet':train['points_in_wallet'].mean()}, inplace=True)"
   ]
  },
  {
   "cell_type": "markdown",
   "metadata": {},
   "source": [
    "### creating new features"
   ]
  },
  {
   "cell_type": "code",
   "execution_count": 30,
   "metadata": {},
   "outputs": [],
   "source": [
    "def feed(val):\n",
    "    if val in ['Poor Product Quality','Too many ads','Poor Website','Poor Customer Service']:\n",
    "        return \"Negative\"\n",
    "    elif val in ['No reason specified']:\n",
    "        return \"Unknown\"\n",
    "    else:\n",
    "        return \"Positive\""
   ]
  },
  {
   "cell_type": "code",
   "execution_count": 31,
   "metadata": {},
   "outputs": [],
   "source": [
    "train['feed']=train['feedback'].apply(lambda x:feed(x))"
   ]
  },
  {
   "cell_type": "code",
   "execution_count": 32,
   "metadata": {},
   "outputs": [],
   "source": [
    "test['feed']=test['feedback'].apply(lambda x:feed(x))"
   ]
  },
  {
   "cell_type": "code",
   "execution_count": 33,
   "metadata": {},
   "outputs": [],
   "source": [
    "train['internet_option'].replace({'Wi-Fi':2,'Mobile_Data':1,'Fiber_Optic':3},inplace=True)"
   ]
  },
  {
   "cell_type": "code",
   "execution_count": 34,
   "metadata": {},
   "outputs": [],
   "source": [
    "train['membership_category'].replace({'No Membership':0,'Basic Membership':1,'Silver Membership':2,\n",
    "                                      'Gold Membership':3,'Platinum Membership':4,'Premium Membership':5}\n",
    "                                     ,inplace=True)"
   ]
  },
  {
   "cell_type": "code",
   "execution_count": 35,
   "metadata": {},
   "outputs": [],
   "source": [
    "test['internet_option'].replace({'Wi-Fi':2,'Mobile_Data':1,'Fiber_Optic':3},inplace=True)"
   ]
  },
  {
   "cell_type": "code",
   "execution_count": 36,
   "metadata": {},
   "outputs": [],
   "source": [
    "test['membership_category'].replace({'No Membership':0,'Basic Membership':1,'Silver Membership':2,\n",
    "                                      'Gold Membership':3,'Platinum Membership':4,'Premium Membership':5}\n",
    "                                   ,inplace=True)"
   ]
  },
  {
   "cell_type": "markdown",
   "metadata": {},
   "source": [
    "### tranformation"
   ]
  },
  {
   "cell_type": "code",
   "execution_count": 37,
   "metadata": {},
   "outputs": [],
   "source": [
    "y=train['churn_risk_score']\n",
    "train_v1=train.drop(columns='churn_risk_score')"
   ]
  },
  {
   "cell_type": "code",
   "execution_count": 38,
   "metadata": {},
   "outputs": [],
   "source": [
    "from sklearn.preprocessing import OneHotEncoder\n",
    "from sklearn.compose import ColumnTransformer"
   ]
  },
  {
   "cell_type": "code",
   "execution_count": 39,
   "metadata": {},
   "outputs": [],
   "source": [
    "ohe=OneHotEncoder()"
   ]
  },
  {
   "cell_type": "code",
   "execution_count": 40,
   "metadata": {},
   "outputs": [],
   "source": [
    "cat=[]\n",
    "for i in test.columns:\n",
    "    if test[i].dtype=='O':\n",
    "        cat.append(i)"
   ]
  },
  {
   "cell_type": "code",
   "execution_count": 41,
   "metadata": {},
   "outputs": [],
   "source": [
    "ct=ColumnTransformer([(\"ohe\",ohe,cat)],\n",
    "                    remainder='passthrough',\n",
    "                    n_jobs=-1)"
   ]
  },
  {
   "cell_type": "code",
   "execution_count": 42,
   "metadata": {},
   "outputs": [],
   "source": [
    "train_arr=ct.fit_transform(train_v1)"
   ]
  },
  {
   "cell_type": "code",
   "execution_count": 43,
   "metadata": {},
   "outputs": [],
   "source": [
    "test_arr=ct.transform(test)"
   ]
  },
  {
   "cell_type": "code",
   "execution_count": 44,
   "metadata": {},
   "outputs": [
    {
     "data": {
      "text/plain": [
       "((35829, 49), (19919, 49), 35829)"
      ]
     },
     "execution_count": 44,
     "metadata": {},
     "output_type": "execute_result"
    }
   ],
   "source": [
    "train_arr.shape, test_arr.shape, len(y)"
   ]
  },
  {
   "cell_type": "markdown",
   "metadata": {},
   "source": [
    "### FINALLY MODEL"
   ]
  },
  {
   "cell_type": "code",
   "execution_count": 45,
   "metadata": {},
   "outputs": [],
   "source": [
    "from sklearn.ensemble import RandomForestClassifier\n",
    "from xgboost import XGBClassifier\n",
    "from lightgbm import LGBMClassifier\n",
    "from sklearn.model_selection import cross_val_score\n",
    "from sklearn.metrics import f1_score"
   ]
  },
  {
   "cell_type": "code",
   "execution_count": 46,
   "metadata": {},
   "outputs": [],
   "source": [
    "rfc=RandomForestClassifier(n_jobs=-1,random_state=42)"
   ]
  },
  {
   "cell_type": "code",
   "execution_count": 47,
   "metadata": {},
   "outputs": [],
   "source": [
    "lgbm=LGBMClassifier(random_state=42,n_jobs=-1)"
   ]
  },
  {
   "cell_type": "code",
   "execution_count": 48,
   "metadata": {},
   "outputs": [],
   "source": [
    "xgb=XGBClassifier(random_state=42,n_jobs=-1)"
   ]
  },
  {
   "cell_type": "markdown",
   "metadata": {},
   "source": [
    "### cross_validation_f1_score"
   ]
  },
  {
   "cell_type": "code",
   "execution_count": 49,
   "metadata": {},
   "outputs": [],
   "source": [
    "def make_scorer(estimator,X,y):\n",
    "    y_pred=estimator.predict(X)\n",
    "    return f1_score(y,y_pred,average=\"macro\")"
   ]
  },
  {
   "cell_type": "code",
   "execution_count": 50,
   "metadata": {},
   "outputs": [
    {
     "data": {
      "text/plain": [
       "0.7646810522794987"
      ]
     },
     "execution_count": 50,
     "metadata": {},
     "output_type": "execute_result"
    }
   ],
   "source": [
    "cross_val_score(rfc,train_arr,y,cv=5,scoring=make_scorer).mean()"
   ]
  },
  {
   "cell_type": "code",
   "execution_count": 51,
   "metadata": {},
   "outputs": [
    {
     "data": {
      "text/plain": [
       "0.7668140064587012"
      ]
     },
     "execution_count": 51,
     "metadata": {},
     "output_type": "execute_result"
    }
   ],
   "source": [
    "cross_val_score(xgb,train_arr,y,cv=5,scoring=make_scorer).mean()"
   ]
  },
  {
   "cell_type": "code",
   "execution_count": 52,
   "metadata": {},
   "outputs": [
    {
     "data": {
      "text/plain": [
       "0.766260632919091"
      ]
     },
     "execution_count": 52,
     "metadata": {},
     "output_type": "execute_result"
    }
   ],
   "source": [
    "cross_val_score(lgbm,train_arr,y,cv=5,scoring=make_scorer).mean()"
   ]
  },
  {
   "cell_type": "code",
   "execution_count": 53,
   "metadata": {},
   "outputs": [],
   "source": [
    "# xgb.fit(train_arr,y)\n",
    "# xgb_vals=xgb.predict(test_arr)\n",
    "# res_xgb_2=pd.DataFrame({\"customer_id\":test_ids,\"churn_risk_score\":xgb_vals})\n",
    "# res_xgb_2.to_csv('res_xgb_2.csv',index=False)"
   ]
  },
  {
   "cell_type": "code",
   "execution_count": 54,
   "metadata": {},
   "outputs": [],
   "source": [
    "# lgbm.fit(train_arr,y)\n",
    "# lgbm_vals=lgbm.predict(test_arr)\n",
    "# res_lgbm_2=pd.DataFrame({\"customer_id\":test_ids,\"churn_risk_score\":lgbm_vals})\n",
    "# res_lgbm_2.to_csv('res_lgbm_2.csv',index=False)"
   ]
  },
  {
   "cell_type": "code",
   "execution_count": 55,
   "metadata": {},
   "outputs": [],
   "source": [
    "# rfc.fit(train_arr,y)\n",
    "# rfc_vals=rfc.predict(test_arr)\n",
    "# res_rfc_3=pd.DataFrame({\"customer_id\":test_ids,\"churn_risk_score\":rfc_vals})\n",
    "# res_rfc_3.to_csv('res_rfc_3.csv',index=False)"
   ]
  },
  {
   "cell_type": "markdown",
   "metadata": {},
   "source": [
    "### GRID SEARCH OF XGB"
   ]
  },
  {
   "cell_type": "code",
   "execution_count": 61,
   "metadata": {},
   "outputs": [],
   "source": [
    "grid_xgb={\n",
    "    'max_depth':[6,8,10],\n",
    "    'learning_rate':[0.01,0.03],\n",
    "    'booster':['gbtree','dart']\n",
    "}\n",
    "\n",
    "xgb_g=GridSearchCV(estimator=xgb,\n",
    "                  param_grid=grid_xgb,\n",
    "                  cv=5,\n",
    "                  verbose=2,\n",
    "                  n_jobs=-1)"
   ]
  },
  {
   "cell_type": "code",
   "execution_count": 62,
   "metadata": {},
   "outputs": [
    {
     "name": "stdout",
     "output_type": "stream",
     "text": [
      "Fitting 5 folds for each of 12 candidates, totalling 60 fits\n"
     ]
    },
    {
     "name": "stderr",
     "output_type": "stream",
     "text": [
      "[Parallel(n_jobs=-1)]: Using backend LokyBackend with 8 concurrent workers.\n",
      "[Parallel(n_jobs=-1)]: Done  25 tasks      | elapsed:  4.4min\n",
      "[Parallel(n_jobs=-1)]: Done  60 out of  60 | elapsed: 14.5min finished\n"
     ]
    },
    {
     "data": {
      "text/plain": [
       "GridSearchCV(cv=5,\n",
       "             estimator=XGBClassifier(base_score=None, booster=None,\n",
       "                                     colsample_bylevel=None,\n",
       "                                     colsample_bynode=None,\n",
       "                                     colsample_bytree=None, gamma=None,\n",
       "                                     gpu_id=None, importance_type='gain',\n",
       "                                     interaction_constraints=None,\n",
       "                                     learning_rate=None, max_delta_step=None,\n",
       "                                     max_depth=None, min_child_weight=None,\n",
       "                                     missing=nan, monotone_constraints=None,\n",
       "                                     n_estimators=100, n_jobs=-1,\n",
       "                                     num_parallel_tree=None, random_state=42,\n",
       "                                     reg_alpha=None, reg_lambda=None,\n",
       "                                     scale_pos_weight=None, subsample=None,\n",
       "                                     tree_method=None, validate_parameters=None,\n",
       "                                     verbosity=None),\n",
       "             n_jobs=-1,\n",
       "             param_grid={'booster': ['gbtree', 'dart'],\n",
       "                         'learning_rate': [0.01, 0.03],\n",
       "                         'max_depth': [6, 8, 10]},\n",
       "             verbose=2)"
      ]
     },
     "execution_count": 62,
     "metadata": {},
     "output_type": "execute_result"
    }
   ],
   "source": [
    "xgb_g.fit(train_arr,y)"
   ]
  },
  {
   "cell_type": "code",
   "execution_count": 63,
   "metadata": {},
   "outputs": [
    {
     "data": {
      "text/plain": [
       "{'booster': 'gbtree', 'learning_rate': 0.03, 'max_depth': 6}"
      ]
     },
     "execution_count": 63,
     "metadata": {},
     "output_type": "execute_result"
    }
   ],
   "source": [
    "xgb_g.best_params_"
   ]
  },
  {
   "cell_type": "code",
   "execution_count": 65,
   "metadata": {},
   "outputs": [],
   "source": [
    "xgb_best=XGBClassifier(learning_rate=0.03,n_jobs=-1,random_state=42)"
   ]
  },
  {
   "cell_type": "code",
   "execution_count": 66,
   "metadata": {},
   "outputs": [
    {
     "data": {
      "text/plain": [
       "0.7742482216274017"
      ]
     },
     "execution_count": 66,
     "metadata": {},
     "output_type": "execute_result"
    }
   ],
   "source": [
    "cross_val_score(xgb_best,train_arr,y,cv=5,scoring=make_scorer).mean()"
   ]
  },
  {
   "cell_type": "markdown",
   "metadata": {},
   "source": [
    "## Solution CSV"
   ]
  },
  {
   "cell_type": "code",
   "execution_count": 67,
   "metadata": {},
   "outputs": [],
   "source": [
    "xgb_best.fit(train_arr,y)\n",
    "xgb_vals=xgb_best.predict(test_arr)\n",
    "res_xgb_2=pd.DataFrame({\"customer_id\":test_ids,\"churn_risk_score\":xgb_vals})\n",
    "res_xgb_2.to_csv('res_xgb_3.csv',index=False)"
   ]
  },
  {
   "cell_type": "markdown",
   "metadata": {},
   "source": [
    "### GRID SEARCH OF LGBM"
   ]
  },
  {
   "cell_type": "code",
   "execution_count": 64,
   "metadata": {},
   "outputs": [],
   "source": [
    "# grid={\n",
    "#     'boosting_type':['gbdt','rf','dart'],\n",
    "#     'n_estimators':[100,140,180,220,260],\n",
    "#     'learning_rate':[0.01,0.03,0.1],\n",
    "#     'num_leaves':[31,40,60,80,100]\n",
    "# }\n",
    "\n",
    "# lgbm_g=GridSearchCV(estimator=lgbm,\n",
    "#                     param_grid=grid,\n",
    "#                     scoring=make_scorer,\n",
    "#                     n_jobs=-1,\n",
    "#                     cv=5,\n",
    "#                     verbose=2\n",
    "#                    )"
   ]
  },
  {
   "cell_type": "code",
   "execution_count": 65,
   "metadata": {},
   "outputs": [
    {
     "name": "stdout",
     "output_type": "stream",
     "text": [
      "Fitting 5 folds for each of 225 candidates, totalling 1125 fits\n"
     ]
    },
    {
     "name": "stderr",
     "output_type": "stream",
     "text": [
      "[Parallel(n_jobs=-1)]: Using backend LokyBackend with 8 concurrent workers.\n",
      "/Users/ysdanu/opt/anaconda3/lib/python3.8/site-packages/joblib/externals/loky/process_executor.py:688: UserWarning: A worker stopped while some jobs were given to the executor. This can be caused by a too short worker timeout or by a memory leak.\n",
      "  warnings.warn(\n",
      "[Parallel(n_jobs=-1)]: Done  25 tasks      | elapsed:   15.2s\n",
      "[Parallel(n_jobs=-1)]: Done 146 tasks      | elapsed:  2.0min\n",
      "[Parallel(n_jobs=-1)]: Done 349 tasks      | elapsed:  5.0min\n",
      "[Parallel(n_jobs=-1)]: Done 632 tasks      | elapsed:  5.6min\n",
      "[Parallel(n_jobs=-1)]: Done 997 tasks      | elapsed: 22.3min\n",
      "[Parallel(n_jobs=-1)]: Done 1125 out of 1125 | elapsed: 31.2min finished\n"
     ]
    },
    {
     "data": {
      "text/plain": [
       "GridSearchCV(cv=5, estimator=LGBMClassifier(random_state=42), n_jobs=-1,\n",
       "             param_grid={'boosting_type': ['gbdt', 'rf', 'dart'],\n",
       "                         'learning_rate': [0.01, 0.03, 0.1],\n",
       "                         'n_estimators': [100, 140, 180, 220, 260],\n",
       "                         'num_leaves': [31, 40, 60, 80, 100]},\n",
       "             scoring=<function make_scorer at 0x7fa19d56aa60>, verbose=2)"
      ]
     },
     "execution_count": 65,
     "metadata": {},
     "output_type": "execute_result"
    }
   ],
   "source": [
    "# lgbm_g.fit(train_arr,y)"
   ]
  },
  {
   "cell_type": "code",
   "execution_count": 66,
   "metadata": {},
   "outputs": [
    {
     "data": {
      "text/plain": [
       "{'boosting_type': 'dart',\n",
       " 'learning_rate': 0.1,\n",
       " 'n_estimators': 260,\n",
       " 'num_leaves': 60}"
      ]
     },
     "execution_count": 66,
     "metadata": {},
     "output_type": "execute_result"
    }
   ],
   "source": [
    "# lgbm_g.best_params_"
   ]
  }
 ],
 "metadata": {
  "kernelspec": {
   "display_name": "Python 3",
   "language": "python",
   "name": "python3"
  },
  "language_info": {
   "codemirror_mode": {
    "name": "ipython",
    "version": 3
   },
   "file_extension": ".py",
   "mimetype": "text/x-python",
   "name": "python",
   "nbconvert_exporter": "python",
   "pygments_lexer": "ipython3",
   "version": "3.8.5"
  }
 },
 "nbformat": 4,
 "nbformat_minor": 4
}
